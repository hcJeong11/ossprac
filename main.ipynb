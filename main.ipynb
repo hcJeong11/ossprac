{
 "cells": [
  {
   "cell_type": "code",
   "execution_count": 4,
   "id": "c5f7fa29",
   "metadata": {},
   "outputs": [
    {
     "name": "stdout",
     "output_type": "stream",
     "text": [
      "이름을 입력하세요: 정현철\n",
      "학번을 입력하세요: 2018112083\n",
      "\n",
      "<출력>\n",
      "이름: 정현철\n",
      "학번: 2018112083\n"
     ]
    }
   ],
   "source": [
    "name = input(\"이름을 입력하세요: \")\n",
    "stId = input(\"학번을 입력하세요: \")\n",
    "\n",
    "print(\"\\n<출력>\")\n",
    "print(\"이름:\", name)\n",
    "print(\"학번:\", stId)"
   ]
  },
  {
   "cell_type": "code",
   "execution_count": null,
   "id": "9e5a975b",
   "metadata": {},
   "outputs": [],
   "source": []
  }
 ],
 "metadata": {
  "kernelspec": {
   "display_name": "Python 3 (ipykernel)",
   "language": "python",
   "name": "python3"
  },
  "language_info": {
   "codemirror_mode": {
    "name": "ipython",
    "version": 3
   },
   "file_extension": ".py",
   "mimetype": "text/x-python",
   "name": "python",
   "nbconvert_exporter": "python",
   "pygments_lexer": "ipython3",
   "version": "3.9.16"
  }
 },
 "nbformat": 4,
 "nbformat_minor": 5
}
